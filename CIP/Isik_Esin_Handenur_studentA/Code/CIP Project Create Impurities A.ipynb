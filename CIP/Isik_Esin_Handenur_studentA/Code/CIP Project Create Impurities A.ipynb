{
 "cells": [
  {
   "cell_type": "markdown",
   "id": "af340295",
   "metadata": {},
   "source": [
    "CIP Project Create Impurities A.ipynb <br>\n",
    "Author: Esin Handenur Isik"
   ]
  },
  {
   "cell_type": "markdown",
   "id": "fc78ce69",
   "metadata": {},
   "source": [
    "## Make data synthetically dirty\n",
    "\n",
    "- Make approximately 15% of the data dirty.\n",
    "- Using df.sample() approach to randomize affected rows\n",
    "\n",
    "Already present impurities:\n",
    "- currency sign and commas should not be in Budget and Revenue column\n",
    "- change dataypes of Budget and Revenue\n",
    "\n",
    "Synthetically added impurities:\n",
    "- Swap rows to make ranking incorrect\n",
    "- Add inaccurate month info to random release years\n",
    "- Change some NaN in Budget column to random unrealistic number (between 1-100)\n",
    "- Add character (\"#\") to titles at random position\n"
   ]
  },
  {
   "cell_type": "code",
   "execution_count": null,
   "id": "85abdfb4",
   "metadata": {},
   "outputs": [],
   "source": [
    "import pandas as pd\n",
    "import numpy as np"
   ]
  },
  {
   "cell_type": "markdown",
   "id": "ead97012",
   "metadata": {},
   "source": [
    "## Function to apply impurities: impurify()"
   ]
  },
  {
   "cell_type": "code",
   "execution_count": null,
   "id": "45a0a244",
   "metadata": {},
   "outputs": [],
   "source": [
    "def impurify(dataframe):\n",
    "    \"\"\"\n",
    "    Impurify approx 15% of a dataset with the following actions:\n",
    "    - Impurity 1: Swap rows to make ranking incorrect\n",
    "    - Impurity 2: some years contain inaccurate month info\n",
    "    - Impurity 3: some NaN in Budget column are random samll number (between 1-100) instead of np.nan\n",
    "    - Impurity 4: some titles contain a # at random position\n",
    "    :Return: Impurified dataset\n",
    "    \"\"\"\n",
    "    \n",
    "    from random import randint\n",
    "\n",
    "    \n",
    "    df = dataframe\n",
    "    \n",
    "    #sImpurity 1: shuffle rows in dataframe:\n",
    "    dfimpure = df.sample(frac = 1)\n",
    "    \n",
    "    #Impurity 2: add inaccurate month info to year\n",
    "    dfupdate = dfimpure.sample(50)\n",
    "    dfupdate.Year += 0.01\n",
    "    dfimpure.update(dfupdate)\n",
    "    update_list = dfupdate.index.tolist()\n",
    "    \n",
    "    #Impurity 3: replace NaN in budget column with random number < 100\n",
    "    dfupdate = dfimpure.loc[dfimpure.Budget.isna()].sample(50)\n",
    "    \n",
    "    def add_wrongbudget(value):\n",
    "        value = randint(1,100)\n",
    "        return value\n",
    "    \n",
    "    dfupdate.Budget = dfupdate.Budget.apply(add_wrongbudget)\n",
    "    dfimpure.update(dfupdate)\n",
    "    update_list = dfupdate.index.tolist()\n",
    "    \n",
    "    #Impurity 4: add random # to Title\n",
    "    dfupdate = dfimpure.sample(50)\n",
    "    \n",
    "    def addhashtag(value): \n",
    "        title_length = len(value)\n",
    "        random_index = randint(0,title_length)\n",
    "        value = \"#\".join([value[:random_index], value[random_index:]])\n",
    "        return value\n",
    "        \n",
    "    dfupdate.Title = dfupdate.Title.apply(addhashtag)\n",
    "    dfimpure.update(dfupdate)\n",
    "    update_list = dfupdate.index.tolist()\n",
    "    \n",
    "    return dfimpure"
   ]
  },
  {
   "cell_type": "markdown",
   "id": "fcf4da65",
   "metadata": {},
   "source": [
    "### Load scraped data:"
   ]
  },
  {
   "cell_type": "code",
   "execution_count": null,
   "id": "314d55a2",
   "metadata": {},
   "outputs": [],
   "source": [
    "df_stage1 = pd.read_csv(\"../Data/A_stage1.csv\", delimiter = \",\")"
   ]
  },
  {
   "cell_type": "markdown",
   "id": "b0f95698",
   "metadata": {},
   "source": [
    "### Apply function to impurify data:"
   ]
  },
  {
   "cell_type": "code",
   "execution_count": null,
   "id": "803187c4",
   "metadata": {},
   "outputs": [],
   "source": [
    "A_stage2 = impurify(df_stage1)"
   ]
  },
  {
   "cell_type": "code",
   "execution_count": null,
   "id": "27819e28",
   "metadata": {},
   "outputs": [],
   "source": [
    "pd.set_option('display.max_rows', 1000)\n",
    "A_stage2"
   ]
  },
  {
   "cell_type": "markdown",
   "id": "0e6324fb",
   "metadata": {},
   "source": [
    "### Check the impurities and length of data set:"
   ]
  },
  {
   "cell_type": "code",
   "execution_count": null,
   "id": "2f8b483b",
   "metadata": {},
   "outputs": [],
   "source": [
    "count = 0\n",
    "for budget in A_stage2.Budget:\n",
    "    try:\n",
    "        ab = budget < 100\n",
    "        if ab:\n",
    "            count += 1\n",
    "    except:\n",
    "        continue\n",
    "\n",
    "counter = 0        \n",
    "for year in A_stage2.Year:\n",
    "    try:\n",
    "        dec = int(str(year).split(\".\")[1][1])\n",
    "        if dec == 1:\n",
    "            counter += 1\n",
    "    except:\n",
    "        continue\n",
    "\n",
    "print(\"Amount of wrong date info: \" + str(counter))\n",
    "print(\"Amount of wrong NaN: \" + str(count))\n",
    "print(\"Amount of record titles that contain a #: \" + str(len(A_stage2.loc[A_stage2.Title.str.contains(\"#\")])))\n",
    "print(\"Length of data set: \" + str(len(A_stage2)))"
   ]
  },
  {
   "cell_type": "markdown",
   "id": "00f2ee4f",
   "metadata": {},
   "source": [
    "### Export the dataframe: A_stage_2.csv:"
   ]
  },
  {
   "cell_type": "code",
   "execution_count": null,
   "id": "9cdac4cf",
   "metadata": {},
   "outputs": [],
   "source": [
    "A_stage2 = A_stage2.to_csv(\"../Data/A_stage2.csv\", index = False)"
   ]
  }
 ],
 "metadata": {
  "kernelspec": {
   "display_name": "Python 3 (ipykernel)",
   "language": "python",
   "name": "python3"
  },
  "language_info": {
   "codemirror_mode": {
    "name": "ipython",
    "version": 3
   },
   "file_extension": ".py",
   "mimetype": "text/x-python",
   "name": "python",
   "nbconvert_exporter": "python",
   "pygments_lexer": "ipython3",
   "version": "3.10.6"
  }
 },
 "nbformat": 4,
 "nbformat_minor": 5
}
