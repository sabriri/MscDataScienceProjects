{
 "cells": [
  {
   "cell_type": "markdown",
   "id": "2625db33",
   "metadata": {},
   "source": [
    "CIP Project Clean and Enrich A.ipynb <br>\n",
    "Author: Esin Handenur Isik"
   ]
  },
  {
   "cell_type": "markdown",
   "id": "fbf67c05",
   "metadata": {},
   "source": [
    "# Clean and Enrich Box Office Mojo Data Set\n",
    "File has been synthetically made dirty. \n",
    "\n",
    "## 1. Cleaning processes:\n",
    "\n",
    "### Already present impurities:\n",
    "\n",
    "1.1. remove currency sign and commas from Budget and Revenue column <br>\n",
    "1.2. change dataypes of Budget and Revenue and Rank\n",
    "\n",
    "### Synthetically added impurities:\n",
    "\n",
    "1.3. Put ranking in correct order <br> \n",
    "1.4. Correct the release years <br>\n",
    "     + Remove movies released after 2017<br>\n",
    "1.5. Detect unrealistic and inaccurate budget information and change to NaN <br>\n",
    "1.6. Remove incorrect characters from titles <br>\n",
    "\n",
    "## 2. Enrichment processes:\n",
    "\n",
    "2.1. Create column with lifetime gross revenue to budget ratio <br>\n",
    "2.2. Create column for calculated Lifetime Gross Profit <br>\n",
    "2.3. Create ranking based on Liftetime Gross Profit"
   ]
  },
  {
   "cell_type": "markdown",
   "id": "65852764",
   "metadata": {},
   "source": [
    "##### Load impure data A_stage2.csv:"
   ]
  },
  {
   "cell_type": "code",
   "execution_count": null,
   "id": "4e9d4119",
   "metadata": {},
   "outputs": [],
   "source": [
    "import pandas as pd\n",
    "import numpy as np\n",
    "\n",
    "df = pd.read_csv(\"../Data/A_stage2.csv\")\n",
    "df"
   ]
  },
  {
   "cell_type": "markdown",
   "id": "2ffb2f8f",
   "metadata": {},
   "source": [
    "## 1. Cleaning Process\n",
    "### Clean present impurities\n",
    "#### 1.1. Remove currency sign and commas from Budget and Revenue column\n",
    "#### 1.2. Change dataypes of Budget and Revenue and Rank"
   ]
  },
  {
   "cell_type": "code",
   "execution_count": null,
   "id": "4c054e79",
   "metadata": {},
   "outputs": [],
   "source": [
    "df.Budget = df.Budget.str.replace(\"$\", \"\", regex = True).replace(\",\", \"\", regex = True)\n",
    "df.Budget = df.Budget.str.replace(\".\", \"\", regex = True).fillna(0).astype(int) # fill NaN to convert data type\n",
    "df[\"Lifetime Gross\"] = df[\"Lifetime Gross\"].str.replace(\"$\", \"\", regex = True).replace(\",\", \"\", regex = True).astype(int)\n",
    "df.Rank = df.Rank.astype(int)\n",
    "df"
   ]
  },
  {
   "cell_type": "code",
   "execution_count": null,
   "id": "eae588be",
   "metadata": {},
   "outputs": [],
   "source": [
    "print(type(df.Budget.loc[0])) #values are now integers\n",
    "print(type(df['Lifetime Gross'].loc[0]))\n",
    "print(type(df.Rank.loc[0]))"
   ]
  },
  {
   "cell_type": "markdown",
   "id": "d72954fa",
   "metadata": {},
   "source": [
    "#### 1.3. Put ranking in correct order"
   ]
  },
  {
   "cell_type": "code",
   "execution_count": null,
   "id": "ea442e17",
   "metadata": {},
   "outputs": [],
   "source": [
    "df = df.sort_values(\"Rank\", ignore_index = True)\n",
    "df"
   ]
  },
  {
   "cell_type": "markdown",
   "id": "41c85f48",
   "metadata": {},
   "source": [
    "#### 1.4. Correct the release years"
   ]
  },
  {
   "cell_type": "code",
   "execution_count": null,
   "id": "57e70699",
   "metadata": {},
   "outputs": [],
   "source": [
    "df.Year = df.Year.astype(str).str.split(pat = \".\") # pandas split to split year and random month info\n",
    "df.Year = df.Year.str.get(0).astype(int) # extract first part of split --> Year\n",
    "df"
   ]
  },
  {
   "cell_type": "code",
   "execution_count": null,
   "id": "f8553889",
   "metadata": {},
   "outputs": [],
   "source": [
    "print(type(df.Year.loc[0])) # Years are integers"
   ]
  },
  {
   "cell_type": "markdown",
   "id": "e459e32e",
   "metadata": {},
   "source": [
    "#### Delete all movies released after 2017 to match with Data Source B and C:"
   ]
  },
  {
   "cell_type": "code",
   "execution_count": null,
   "id": "2d0bd610",
   "metadata": {},
   "outputs": [],
   "source": [
    "df = df.drop(df[df.Year > 2017].index)\n",
    "#Rewrite Rank to avoid gaps:\n",
    "df = df.reset_index(drop= True) # remove index with gaps \n",
    "df = df.reset_index() # adds old index as column, can be used to replace ranking\n",
    "df"
   ]
  },
  {
   "cell_type": "code",
   "execution_count": null,
   "id": "cad548c7",
   "metadata": {},
   "outputs": [],
   "source": [
    "df.Rank = df.index + 1 # replace rank with old index column, +1 to start Rank at 1\n",
    "df = df.drop(\"index\",axis =1) \n",
    "df"
   ]
  },
  {
   "cell_type": "markdown",
   "id": "6c8f64ba",
   "metadata": {},
   "source": [
    "#### 1.5. Detect unrealistic and inaccurate budget information and change to NaN"
   ]
  },
  {
   "cell_type": "code",
   "execution_count": null,
   "id": "8019f971",
   "metadata": {},
   "outputs": [],
   "source": [
    "df.loc[df.Budget < 1000, 'Budget'] = np.nan # converts all previously NaN's set 0 and inaccurate budgets to NaN\n",
    "df.Budget = df.Budget.astype(\"Int64\") # Optional: np.nan casts column as float, convert back into int\n",
    "df"
   ]
  },
  {
   "cell_type": "markdown",
   "id": "cd6d210f",
   "metadata": {},
   "source": [
    "#### 1.6. Remove incorrect characters from titles"
   ]
  },
  {
   "cell_type": "code",
   "execution_count": null,
   "id": "604d7435",
   "metadata": {},
   "outputs": [],
   "source": [
    "# Titles that contain a #:\n",
    "print(\"Titles that contain a #: \" + str(len(df[df.Title.str.contains('#')])))\n",
    "df[df.Title.str.contains('#')]"
   ]
  },
  {
   "cell_type": "code",
   "execution_count": null,
   "id": "186fa06a",
   "metadata": {},
   "outputs": [],
   "source": [
    "#Delete all #:\n",
    "df.Title = df.Title.str.replace(\"#\", \"\", regex = False)"
   ]
  },
  {
   "cell_type": "code",
   "execution_count": null,
   "id": "0b4ae822",
   "metadata": {},
   "outputs": [],
   "source": [
    "print(len(df[df.Title.astype(str).str.contains('#')])) # check if all # were removed\n",
    "df.Title.loc[30] # E.g., Title at index 30 used to be \"Harry Potter and# the Sorcerer's Stone\""
   ]
  },
  {
   "cell_type": "markdown",
   "id": "afa86960",
   "metadata": {},
   "source": [
    "## 2. Enrichment Process\n",
    "#### 2.1. Create column with lifetime gross revenue to budget ratio"
   ]
  },
  {
   "cell_type": "code",
   "execution_count": null,
   "id": "18ec65c9",
   "metadata": {},
   "outputs": [],
   "source": [
    "ratios = []\n",
    "\n",
    "for x,y in zip(df[\"Lifetime Gross\"], df.Budget): # use for loop to calculate ratio and to be able to handle NaN exeptions\n",
    "    try:\n",
    "        ratio = round(x / y, 2) # round to 2 decimals \n",
    "        ratios.append(ratio)\n",
    "    except:\n",
    "        ratio = np.nan\n",
    "        ratios.append(ratio)\n",
    "\n",
    "print(len(ratios))\n",
    "df[\"R:B Ratio\"] = pd.Series(ratios) # add list of ratios as column \"Ratio\" to df\n",
    "df"
   ]
  },
  {
   "cell_type": "markdown",
   "id": "eb614043",
   "metadata": {},
   "source": [
    "#### 2.2. Create column for calculated Lifetime Gross Profit"
   ]
  },
  {
   "cell_type": "code",
   "execution_count": null,
   "id": "12d09eca",
   "metadata": {},
   "outputs": [],
   "source": [
    "profits = []\n",
    "\n",
    "for x,y in zip(df[\"Lifetime Gross\"], df.Budget): # use for loop to be able to handle NaN exceptions\n",
    "    try:\n",
    "        profit = x - y # obtain profit by subtracting the movie's budget from its' revenue\n",
    "        profits.append(profit)\n",
    "    except:\n",
    "        profit = np.nan\n",
    "        profits.append(profit)\n",
    "\n",
    "print(len(profits))\n",
    "df[\"Gross Profit\"] = pd.Series(profits) # add list of profits as column \"Gross Profit\" to df\n",
    "df"
   ]
  },
  {
   "cell_type": "markdown",
   "id": "9230ddfa",
   "metadata": {},
   "source": [
    "#### 2.3. Create ranking based on Liftetime Gross Profit"
   ]
  },
  {
   "cell_type": "code",
   "execution_count": null,
   "id": "1d5a830b",
   "metadata": {},
   "outputs": [],
   "source": [
    "numNA = df[\"Gross Profit\"].isna().sum()\n",
    "print(numNA)"
   ]
  },
  {
   "cell_type": "code",
   "execution_count": null,
   "id": "5c38ab68",
   "metadata": {},
   "outputs": [],
   "source": [
    "# create pd.Series of sorted Gross Profit values, descending, place all NA last:\n",
    "profit_ranking = df[\"Gross Profit\"].sort_values(ascending = False, na_position = \"last\") \n",
    "\n",
    "dflen1 = len(df)+1\n",
    "ranking = []\n",
    "for rank, p in zip(range(1,dflen1), profit_ranking): #loop over the Series to create new ranking\n",
    "    if rank < (dflen1-numNA):\n",
    "        ranking.append(rank)\n",
    "    else: \n",
    "        rank = pd.NA\n",
    "        ranking.append(rank)\n",
    "\n",
    "\n",
    "print(len(ranking))\n",
    "\n",
    "#ranking is sorted according to the sorted Gross Profit column, match df to same order to append ranking\n",
    "df = df.sort_values(\"Gross Profit\",ascending = False, na_position = \"last\", ignore_index = True)\n",
    "\n",
    "df[\"Profit Rank\"] = pd.Series(ranking) # add list of profits as column \"Gross Profit\" to df\n",
    "df"
   ]
  },
  {
   "cell_type": "markdown",
   "id": "29e772d8",
   "metadata": {},
   "source": [
    "### Final Adjustments:\n",
    "#### Reorder table according to Rvenue ranking and reset index:"
   ]
  },
  {
   "cell_type": "code",
   "execution_count": null,
   "id": "bee2b245",
   "metadata": {},
   "outputs": [],
   "source": [
    "df = df.sort_values(\"Rank\", ignore_index = True)\n",
    "df"
   ]
  },
  {
   "cell_type": "markdown",
   "id": "5841186b",
   "metadata": {},
   "source": [
    "#### Rename Revenue ranking and reorder columns:"
   ]
  },
  {
   "cell_type": "code",
   "execution_count": null,
   "id": "036bc600",
   "metadata": {},
   "outputs": [],
   "source": [
    "df.rename(columns={'Rank':'Revenue Rank'}, inplace=True) # rename \"Rank\" to differenciate from \"Profit Rank\"\n",
    "df.rename(columns={'Lifetime Gross':'Gross Revenue'}, inplace=True)\n",
    "df"
   ]
  },
  {
   "cell_type": "code",
   "execution_count": null,
   "id": "187d6d30",
   "metadata": {},
   "outputs": [],
   "source": [
    "df = df.reindex(columns = ['Revenue Rank', 'Profit Rank', 'Title', 'Budget', 'Gross Revenue', 'R:B Ratio',\n",
    "       'Gross Profit', 'Year']) # reorder columns\n",
    "df"
   ]
  },
  {
   "cell_type": "markdown",
   "id": "d2c68bef",
   "metadata": {},
   "source": [
    "#### Inspect and correct df.Title to prepare as Primary Key in Table in MariaDB:"
   ]
  },
  {
   "cell_type": "code",
   "execution_count": null,
   "id": "cc23f26c",
   "metadata": {},
   "outputs": [],
   "source": [
    "dfdupl = df[df.duplicated(\"Title\", keep = False)]\n",
    "dfdupl \n",
    "# it shows that there are 8 duplicated values in the Title column. \n",
    "#These are re-released movies with the same title"
   ]
  },
  {
   "cell_type": "code",
   "execution_count": null,
   "id": "3f9837a6",
   "metadata": {},
   "outputs": [],
   "source": [
    "# It is possible to differenciate those titles by concatenating them with their release years\n",
    "def correct_dupl(dataframe):\n",
    "    df = dataframe\n",
    "\n",
    "    dupl_titles = df.Title.duplicated(keep=False) #Select the duplicated titles\n",
    "\n",
    "    df.loc[dupl_titles, \"Title\"] = (df.loc[dupl_titles, \"Title\"] + \" (\" + \n",
    "                                    df.loc[dupl_titles, \"Year\"].astype(str) + \")\") # re-define titles with string concatenation\n",
    "\n",
    "    return df\n",
    "\n",
    "df = correct_dupl(df)\n",
    "df"
   ]
  },
  {
   "cell_type": "code",
   "execution_count": null,
   "id": "0a298a1f",
   "metadata": {},
   "outputs": [],
   "source": [
    "# Check a duplicate: Beauty and the Beast at index 10:\n",
    "df.Title.loc[10]"
   ]
  },
  {
   "cell_type": "markdown",
   "id": "31b95f92",
   "metadata": {},
   "source": [
    "#### Export A_stage3.csv:"
   ]
  },
  {
   "cell_type": "code",
   "execution_count": null,
   "id": "e855bef6",
   "metadata": {},
   "outputs": [],
   "source": [
    "df.to_csv(\"../Data/A_stage3.csv\", index = False)"
   ]
  }
 ],
 "metadata": {
  "kernelspec": {
   "display_name": "Python 3 (ipykernel)",
   "language": "python",
   "name": "python3"
  },
  "language_info": {
   "codemirror_mode": {
    "name": "ipython",
    "version": 3
   },
   "file_extension": ".py",
   "mimetype": "text/x-python",
   "name": "python",
   "nbconvert_exporter": "python",
   "pygments_lexer": "ipython3",
   "version": "3.10.6"
  }
 },
 "nbformat": 4,
 "nbformat_minor": 5
}
