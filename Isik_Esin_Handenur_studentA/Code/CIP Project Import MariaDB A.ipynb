{
 "cells": [
  {
   "cell_type": "markdown",
   "id": "bbb87fa7",
   "metadata": {},
   "source": [
    "CIP Project Import MariaDB A.ipynb <br>\n",
    "Author: Esin Handenur Isik"
   ]
  },
  {
   "cell_type": "code",
   "execution_count": null,
   "id": "d8ca9c0c",
   "metadata": {},
   "outputs": [],
   "source": [
    "import mariadb\n",
    "import sys\n",
    "import pandas as pd\n",
    "\n",
    "\n",
    "# Connect to MariaDB Platform\n",
    "try:\n",
    "    conn = mariadb.connect(\n",
    "        user=\"cip_user\",\n",
    "        password=\"cip_pw\",\n",
    "        host=\"127.0.0.1\",                    \n",
    "        port=3306, \n",
    "        database=\"CIP\"\n",
    "\n",
    "    )\n",
    "except mariadb.Error as e:\n",
    "    print(f\"Error connecting to MariaDB Platform: {e}\")\n",
    "    sys.exit(1)\n",
    "\n",
    "# Get Cursor\n",
    "cur = conn.cursor()"
   ]
  },
  {
   "cell_type": "code",
   "execution_count": null,
   "id": "6fc6120e",
   "metadata": {},
   "outputs": [],
   "source": [
    "cur"
   ]
  },
  {
   "cell_type": "code",
   "execution_count": null,
   "id": "eed8287a",
   "metadata": {},
   "outputs": [],
   "source": [
    "create_table = '''\n",
    "CREATE TABLE LifeTimeGross_stage3( \n",
    "    Revenue_Rank INT, \n",
    "    Profit_Rank INT, \n",
    "    Title VARCHAR(255) PRIMARY KEY, \n",
    "    Budget BIGINT, \n",
    "    Gross_Revenue BIGINT, \n",
    "    RB_Ratio FLOAT, \n",
    "    Gross_Profit BIGINT, \n",
    "    Year INT\n",
    ");\n",
    "'''\n",
    "\n",
    "try:\n",
    "    cur.execute(create_table)\n",
    "except mariadb.Error as e:\n",
    "    print(f\"Error: {e}\")"
   ]
  },
  {
   "cell_type": "code",
   "execution_count": null,
   "id": "06720ba4",
   "metadata": {},
   "outputs": [],
   "source": [
    "df = pd.read_csv(\"../Data/A_stage3.csv\")\n",
    "df = df.fillna(0)"
   ]
  },
  {
   "cell_type": "code",
   "execution_count": null,
   "id": "ec3c8fd7",
   "metadata": {},
   "outputs": [],
   "source": [
    "insert_df = '''INSERT INTO LifeTimeGross_stage3 (\n",
    "Revenue_Rank, Profit_Rank, Title, Budget, \n",
    "Gross_Revenue, RB_Ratio, Gross_Profit, Year) \n",
    "VALUES (%s, %s, %s, %s, %s, %s, %s, %s)'''\n",
    "\n",
    "with cur:\n",
    "    for index, row in df.iterrows():\n",
    "        try:\n",
    "            cur.execute(insert_df, tuple(row))\n",
    "        except mariadb.Error as e:\n",
    "            print(f\"Error: {e}\")\n",
    "            \n",
    "    conn.commit()"
   ]
  },
  {
   "cell_type": "code",
   "execution_count": null,
   "id": "01f88f33",
   "metadata": {},
   "outputs": [],
   "source": [
    "# Close Connection\n",
    "conn.close()"
   ]
  }
 ],
 "metadata": {
  "kernelspec": {
   "display_name": "Python 3 (ipykernel)",
   "language": "python",
   "name": "python3"
  },
  "language_info": {
   "codemirror_mode": {
    "name": "ipython",
    "version": 3
   },
   "file_extension": ".py",
   "mimetype": "text/x-python",
   "name": "python",
   "nbconvert_exporter": "python",
   "pygments_lexer": "ipython3",
   "version": "3.10.6"
  }
 },
 "nbformat": 4,
 "nbformat_minor": 5
}
